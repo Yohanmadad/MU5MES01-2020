{
 "cells": [
  {
   "cell_type": "markdown",
   "metadata": {},
   "source": [
    "# Introduction to nonlinear elasticity: deflection of a heavy hyperelastic beam \n",
    "\n",
    "In this notebook we give an example for the solution of a problem of nonlinear elasticity.\n",
    "\n",
    "We focus on the simple problem of a cantilever beam loaded only by its own weigth\n",
    "\n",
    "We exploit `UFL` features for automatic symbolic differentiation and formulate the problem by writing the potential energy of the system. \n",
    "\n",
    "We will use here the FEniCS  build-in nonlinear Netwon solver to solve the problem.\n",
    "\n",
    "We strongly suggest to read also the fully commented`FEniCS` demo on hypelasticity \n",
    "https://fenicsproject.org/docs/dolfin/2019.1.0/python/demos/hyperelasticity/demo_hyperelasticity.py.html.\n",
    "\n",
    "The comments in this noteboook are complentary to those provided  in the FEniCS demo"
   ]
  },
  {
   "cell_type": "markdown",
   "metadata": {},
   "source": [
    "## Basic import statements and parameters"
   ]
  },
  {
   "cell_type": "code",
   "execution_count": null,
   "metadata": {},
   "outputs": [],
   "source": [
    "import dolfin\n",
    "import mshr\n",
    "import ufl\n",
    "import numpy as np\n",
    "import matplotlib.pyplot as plt\n",
    "dolfin.parameters[\"form_compiler\"][\"cpp_optimize\"] = True\n",
    "dolfin.parameters[\"form_compiler\"][\"representation\"] = \"uflacs\"\n",
    "plt.style.use('seaborn-notebook')\n",
    "%matplotlib inline"
   ]
  },
  {
   "cell_type": "markdown",
   "metadata": {},
   "source": [
    "## Problem and solver setting"
   ]
  },
  {
   "cell_type": "markdown",
   "metadata": {},
   "source": [
    "Create a mesh and the `ds` measures with boundary indicators "
   ]
  },
  {
   "cell_type": "code",
   "execution_count": null,
   "metadata": {},
   "outputs": [],
   "source": [
    "Lx, Ly = 1., .1\n",
    "nx = 20\n",
    "p0 = dolfin.Point(0,0)\n",
    "p1 = dolfin.Point(Lx,Ly)\n",
    "geom = mshr.Rectangle(p0,p1)\n",
    "mesh = mshr.generate_mesh(geom,nx)\n",
    "\n",
    "# Mark boundary subdomains\n",
    "left = dolfin.CompiledSubDomain(\"on_boundary && near(x[0], 0)\")\n",
    "right = dolfin.CompiledSubDomain(\"on_boundary && near(x[0], Lx)\", Lx=Lx)\n",
    "bottom = dolfin.CompiledSubDomain(\"on_boundary && near(x[1], 0)\")\n",
    "top = dolfin.CompiledSubDomain(\"on_boundary && near(x[1], Ly)\", Ly=Ly)\n",
    "\n",
    "# Mark facets for Neumann BCs\n",
    "boundary_indices = {'left': 1,\n",
    "                    'right': 2,\n",
    "                    'top': 3,\n",
    "                    'bottom': 4}\n",
    "boundary_markers = dolfin.MeshFunction(\"size_t\", mesh, dim=1, value=0)\n",
    "left.mark(boundary_markers, boundary_indices[\"left\"])\n",
    "right.mark(boundary_markers, boundary_indices[\"right\"])\n",
    "top.mark(boundary_markers, boundary_indices[\"top\"])\n",
    "bottom.mark(boundary_markers, boundary_indices[\"bottom\"])\n",
    "\n",
    "# Redefine element of area to include information about the markers\n",
    "ds = dolfin.ds(domain=mesh, subdomain_data=boundary_markers)\n",
    "dx = dolfin.dx(domain=mesh)\n",
    "dolfin.plot(mesh)"
   ]
  },
  {
   "cell_type": "markdown",
   "metadata": {},
   "source": [
    "We save the markers in an XDMF file that can be opened in paraview."
   ]
  },
  {
   "cell_type": "code",
   "execution_count": null,
   "metadata": {},
   "outputs": [],
   "source": [
    "with dolfin.XDMFFile(\"mesh_functions.xdmf\") as f:\n",
    "    f.write(boundary_markers)"
   ]
  },
  {
   "cell_type": "markdown",
   "metadata": {},
   "source": [
    " We define now the finite element space for the displacement u"
   ]
  },
  {
   "cell_type": "code",
   "execution_count": null,
   "metadata": {},
   "outputs": [],
   "source": [
    "V_element = dolfin.VectorElement('CG', ufl.triangle, degree=2) \n",
    "V = dolfin.FunctionSpace(mesh, V_element)\n",
    "u = dolfin.Function(V, name=\"u\")"
   ]
  },
  {
   "cell_type": "markdown",
   "metadata": {},
   "source": [
    " Let us introduce now some useful definition for the kinematics.\n",
    " These expresions are symbolic operators of UFL.\n",
    " At this level no computation is performed."
   ]
  },
  {
   "cell_type": "code",
   "execution_count": null,
   "metadata": {},
   "outputs": [],
   "source": [
    "# Kinematics \n",
    "I = ufl.Identity(2)    # Identity tensor\n",
    "F = ufl.variable(I + ufl.grad(u))  \n",
    "C = F.T*F                   \n",
    "Ic = ufl.tr(C)\n",
    "J  = ufl.det(F)\n",
    "E = 1/2*(C-I)\n",
    "# Stored strain energy density (compressible neo-Hookean model)\n",
    "# Elasticity parameters (plane-stress)\n",
    "Y, nu = 1.e3, 0.3\n",
    "mu, lmbda = dolfin.Constant(Y/(2*(1 + nu))), dolfin.Constant(Y*nu/((1 + nu)*(1 - 2*nu)))\n",
    "lmbda = 2*lmbda*mu/(lmbda + 2*mu) \n",
    "psi = lmbda*ufl.tr(E)**2/2+mu*ufl.inner(E,E)"
   ]
  },
  {
   "cell_type": "markdown",
   "metadata": {},
   "source": [
    "We can have an automatic symbolic derivation of the strain energy density to define the First Piola-Kirchhoff stress \n",
    " \n",
    " $${P}=\\dfrac{\\partial\\Psi}{\\partial F}$$\n",
    " \n",
    " To this end we use the `diff` operator of `UFL`(https://fenics.readthedocs.io/projects/ufl/en/latest/manual/form_language.html#variable-derivatives).\n",
    " \n",
    " Its use requires to define the symbol of the derivation variable as a `UFL` `variable`. \n",
    " That is the reason why `F` in the preivous cell is defined as a `ufl.variable`.\n"
   ]
  },
  {
   "cell_type": "code",
   "execution_count": null,
   "metadata": {},
   "outputs": [],
   "source": [
    "P = ufl.diff(psi, F) \n",
    "n = dolfin.FacetNormal(mesh) # normal to the mesh"
   ]
  },
  {
   "cell_type": "markdown",
   "metadata": {},
   "source": [
    "Hence, we can define the bulk force (`b0`) and surface traction (`g0`) and the total potential energy functional. in this example they are initially set to `0`."
   ]
  },
  {
   "cell_type": "code",
   "execution_count": null,
   "metadata": {},
   "outputs": [],
   "source": [
    "b0 = dolfin.Expression((\"0.0\", \"mu*t\"), t=0, mu=mu, degree=0)  \n",
    "g0 = mu*dolfin.Constant((0.0,0.0)) \n",
    "\n",
    "# Total potential energy\n",
    "potential_energy = psi*dx - ufl.dot(b0, u)*dx - ufl.dot(g0, u)*ds(boundary_indices['right'])"
   ]
  },
  {
   "cell_type": "markdown",
   "metadata": {},
   "source": [
    "As a Dirichlet Boundary condition, we block the left-end"
   ]
  },
  {
   "cell_type": "code",
   "execution_count": null,
   "metadata": {},
   "outputs": [],
   "source": [
    "bcs = [dolfin.DirichletBC(V, (0.,0.), left)]"
   ]
  },
  {
   "cell_type": "markdown",
   "metadata": {},
   "source": [
    "The variational problem to solve is the minimization of the potential energy with the given boundary conditions.\n",
    "\n",
    "The problem is nonlinear and requires the use of a Newton solver. \n",
    "\n",
    "To this end we need to define the  *residual*, given by the first derivative of the energy, and the *Jacobian* (or *Hessian*), given by second directional derivative of the energy.\n",
    "\n",
    "In FEniCS, thanks to the symbolic differentiation tools provided by `UFL` this can be done automatically, without effort from the user.\n",
    "\n",
    "To this end we use the `derivative` function from `UFL` which allows us to calculate the directional derivative of a form.\n",
    "We refer to the `UFL` manual for the syntax: https://fenics.readthedocs.io/projects/ufl/en/latest/manual/form_language.html#ad\n"
   ]
  },
  {
   "cell_type": "code",
   "execution_count": null,
   "metadata": {},
   "outputs": [],
   "source": [
    "# Compute first variation of the potential energy (directional derivative about u in the direction of v)\n",
    "residual = ufl.derivative(potential_energy, u, dolfin.TestFunction(V))\n",
    "# Compute Jacobian of the energy\n",
    "jacobian = ufl.derivative(residual, u, dolfin.TrialFunction(V))"
   ]
  },
  {
   "cell_type": "markdown",
   "metadata": {},
   "source": [
    "All the informations about the variational problem to be solved  (residual, jacobian, bcs, and indipendent variable) can be  collected in the dolfin class `NonlinearVariationalProblem` https://fenicsproject.org/docs/dolfin/2019.1.0/cpp/db/d3d/classdolfin_1_1NonlinearVariationalProblem.html"
   ]
  },
  {
   "cell_type": "code",
   "execution_count": null,
   "metadata": {},
   "outputs": [],
   "source": [
    "# Set the variational problem\n",
    "problem = dolfin.NonlinearVariationalProblem(residual, u, bcs=bcs, J=jacobian)"
   ]
  },
  {
   "cell_type": "markdown",
   "metadata": {},
   "source": [
    "We can define then a nonlinear solver class, provided by FEniCS.\n",
    "This solver can implemented the basic newton method or more complex nonlinear solvers (that we will not discussed in class).\n",
    "A long list of parameters can be specified. \n",
    "All the nonlinear solver available in `PETSc` can be used. We suggest the reading of the PETSC user manual (Chapter 5, SNES Solver). "
   ]
  },
  {
   "cell_type": "code",
   "execution_count": null,
   "metadata": {},
   "outputs": [],
   "source": [
    "# dolfin.PETScOptions.set(\"help\",1)\n",
    "solver = dolfin.NonlinearVariationalSolver(problem)\n",
    "dolfin.info(solver.parameters, True)\n",
    "#solver.parameters.update({\"nonlinear_solver\":\"snes\"})\n",
    "#dolfin.PETScOptions.set(\"snes_type\",\"newtonls\")\n"
   ]
  },
  {
   "cell_type": "markdown",
   "metadata": {},
   "source": [
    "## Solve the static nonlinear problem"
   ]
  },
  {
   "cell_type": "markdown",
   "metadata": {},
   "source": [
    "We can now solve the problem. \n",
    "To start let us initialize the solution at $u=(0,0)$ and set vanishing loads\n"
   ]
  },
  {
   "cell_type": "code",
   "execution_count": null,
   "metadata": {},
   "outputs": [],
   "source": [
    "b0.t = 0.0\n",
    "u.interpolate(dolfin.Constant((0.,0.)))\n",
    "niterations, reason = solver.solve()\n",
    "plt.colorbar(dolfin.plot(u, mode=\"displacement\"), orientation=\"horizontal\")\n",
    "plt.title(\"Solution with vanishing force converged with {:d} iterations and reason {:b}\".format(niterations,reason))"
   ]
  },
  {
   "cell_type": "markdown",
   "metadata": {},
   "source": [
    "Without surprise the solution is null because the loading is null.\n",
    "The solver gives the output the number of newton iterations required and the reason (`1`: converged, `0`: non-converged)\n",
    "\n",
    "Let us increase sligtly the volume force. Always initializing at $u=(0,0)$. "
   ]
  },
  {
   "cell_type": "code",
   "execution_count": null,
   "metadata": {},
   "outputs": [],
   "source": [
    "b0.t = .001\n",
    "u.interpolate(dolfin.Constant((0.,0.)))\n",
    "solver.solve()\n",
    "plt.colorbar(dolfin.plot(u, mode=\"displacement\"), orientation=\"horizontal\")"
   ]
  },
  {
   "cell_type": "markdown",
   "metadata": {},
   "source": [
    "We get a reasonable solution, showing the deflection of the beam under its own weight. \n",
    "As a quantitative output we can get the average displacement at the rigth end.\n",
    "\n",
    "\n",
    "Notes on the `python` synthax used below:\n",
    "- For string formatting syntax see https://pyformat.info/\n",
    "- list comprehension to generate a vector https://www.datacamp.com/community/tutorials/python-list-comprehension\n",
    "- We use `*` to unpack a list https://docs.python.org/2/tutorial/controlflow.html#unpacking-argument-lists\n"
   ]
  },
  {
   "cell_type": "code",
   "execution_count": null,
   "metadata": {},
   "outputs": [],
   "source": [
    "uR = [dolfin.assemble(u[i]*ds(2))/Ly for i in [0, 1]]\n",
    "print(\"The average displacement at the right end is u=({:.4f},{:.4f})\".format(*uR))"
   ]
  },
  {
   "cell_type": "markdown",
   "metadata": {},
   "source": [
    "We can calculate the total reaction force at the left end to double-check against what we expect from global equilibrium:"
   ]
  },
  {
   "cell_type": "code",
   "execution_count": null,
   "metadata": {},
   "outputs": [],
   "source": [
    "fL = [dolfin.assemble((P*n)[i]*ds(1)) for i in [0, 1]]\n",
    "fL_exact = [dolfin.assemble(b0[i]*dx) for i in [0, 1]]\n",
    "print(\"The total reaction force at the left end is ({:.4f},{:.4f})\".format(*fL))\n",
    "print(\"The expected value is ({:+.4f},{:+.4f})\".format(*fL_exact))"
   ]
  },
  {
   "cell_type": "markdown",
   "metadata": {},
   "source": [
    "The error is non-negligible. \n",
    "- Convergence toward the expected value can be oobtained after mesh refinement or increasing the interpolation order of the basis functions. \n",
    "- You can check also that the error will be very relevant with linear elements. The presence of body loading render linear element snon optimal. Have you an explication for this fact? "
   ]
  },
  {
   "cell_type": "markdown",
   "metadata": {},
   "source": [
    "## Solve of a quasi-static evolution problem with continuation"
   ]
  },
  {
   "cell_type": "markdown",
   "metadata": {},
   "source": [
    "Consider now to increment slowly the loading with time. \n",
    "We discretise the time in $n_t$ time-steps of equal length \n",
    "At each time step $t_i$, the solution of the problem can be obtained by initializing the newton solver  with the solution of the previous time-step. This will greatly facilitate the convergence of the Newton algorithm. \n",
    "\n",
    "It sufficies to perform a `for` loop as follows. Note the initialization of the Newton algorithm at each time step is done with the latest solution available which is stored in memory\n",
    "\n",
    "For visualisation, we store the solution in an `XDMF` file, that we can open with `paraview`."
   ]
  },
  {
   "cell_type": "markdown",
   "metadata": {},
   "source": [
    "\n",
    "*Remark:* \n",
    "- The initialization of the solution before starting the solver is fundamental in nonlinear problems, because the solution can be not unique. \n",
    "\n",
    "- Smaller time-steps generally helps convergence. Nonlinear solves can not converge for large time-step because the initialization of the newton solver is not close enough to a possible solution.\n",
    "\n",
    "- Newton solvers converge very quickly (quadratic convergence rate) when they are close to a possible solution of the system to solve. But they can stagnate or diverge is they are not correctly initialized. \n",
    "\n",
    "- You can monitor the interation of the Newton solver in the terminal window where you launched `jupyter`.\n",
    "\n",
    "You can play to test these points\n"
   ]
  },
  {
   "cell_type": "code",
   "execution_count": null,
   "metadata": {},
   "outputs": [],
   "source": [
    "loads = np.linspace(0, .05, 10)\n",
    "displ = np.zeros_like(loads)\n",
    "u.interpolate(dolfin.Constant((0., 0.)))\n",
    "file_u = dolfin.XDMFFile(\"output/u.xdmf\")\n",
    "file_u.parameters.update({\"flush_output\": True,\n",
    "                          \"functions_share_mesh\": True,\n",
    "                          \"rewrite_function_mesh\":False})\n",
    "for (i, t) in enumerate(loads):\n",
    "    b0.t = -t\n",
    "    solver.solve()\n",
    "    displ[i] = dolfin.assemble(u[1]*ds(2))/Ly \n",
    "    print(\"t={:+3.3f}, u={:+3.3f}\".format(t, displ[i]))\n",
    "    plt.figure(1)\n",
    "    dolfin.plot(u, mode = \"displacement\")\n",
    "    with file_u as file:\n",
    "        file.write(u,t)\n",
    "plt.figure(2)\n",
    "plt.plot(loads,displ, \"o\")\n",
    "plt.xlabel(\"load\")\n",
    "plt.ylabel(\"end-displacement\")"
   ]
  },
  {
   "cell_type": "markdown",
   "metadata": {},
   "source": [
    "# Wrap up"
   ]
  },
  {
   "cell_type": "markdown",
   "metadata": {},
   "source": [
    "Let us refactor the nonlinear solver in a function that resume the code required to solve the problem."
   ]
  },
  {
   "cell_type": "code",
   "execution_count": null,
   "metadata": {},
   "outputs": [],
   "source": [
    "import dolfin\n",
    "import ufl\n",
    "import numpy as np\n",
    "import matplotlib.pyplot as plt\n",
    "dolfin.parameters[\"form_compiler\"][\"cpp_optimize\"] = True\n",
    "dolfin.parameters[\"form_compiler\"][\"representation\"] = \"uflacs\"\n",
    "plt.style.use('seaborn-notebook')\n",
    "\n",
    "def solve_hyperelasticity(load_max=0.1, nsteps=40, load_min=0, nu=0.3, nx=20, ny=5, Lx=1, Ly=.1):\n",
    "    dim = 2\n",
    "    degree = 2\n",
    "    mesh = dolfin.RectangleMesh(dolfin.Point(0, 0), dolfin.Point(Lx, Ly), nx, ny)\n",
    "    left = dolfin.CompiledSubDomain(\"near(x[0], 0) && on_boundary\")\n",
    "    right = dolfin.CompiledSubDomain(\"near(x[0], Lx) && on_boundary\", Lx=Lx)\n",
    "    boundary_markers = dolfin.MeshFunction(\"size_t\", mesh, dim=1, value=0)\n",
    "    left_index = 1\n",
    "    right_index = 2\n",
    "    left.mark(boundary_markers, left_index)\n",
    "    right.mark(boundary_markers, right_index)\n",
    "    ds = dolfin.ds(domain=mesh,subdomain_data=boundary_markers)\n",
    "    dx = dolfin.dx(domain=mesh)\n",
    "    \n",
    "    V_element = dolfin.VectorElement('CG', ufl.triangle, degree=degree, dim=dim) \n",
    "    V = dolfin.FunctionSpace(mesh, V_element)\n",
    "    u = dolfin.Function(V, name=\"u\")\n",
    "    \n",
    "    I = ufl.Identity(dim)\n",
    "    F = ufl.variable(I + ufl.grad(u))  \n",
    "    C = F.T*F                   \n",
    "    Ic = ufl.tr(C)\n",
    "    J  = ufl.det(F)\n",
    "    E = 1/2*(C-I)\n",
    "    Y = 1.e3\n",
    "    mu, lmbda = dolfin.Constant(Y/(2*(1 + nu))), dolfin.Constant(Y*nu/((1 + nu)*(1 - 2*nu)))\n",
    "    lmbda = 2*lmbda*mu/(lmbda + 2*mu) \n",
    "    psi = (mu/2)*(Ic - 2) - mu*ufl.ln(J) + (lmbda/2)*(ufl.ln(J))**2\n",
    "    \n",
    "    b0 = dolfin.Expression((\"0.0\", \"t*mu\"), t=0, mu=mu, degree=0)  \n",
    "    g0 = mu*dolfin.Constant((0.0,0.0)) \n",
    "    \n",
    "    potential_energy = psi*dx - ufl.dot(b0, u)*dx - ufl.dot(g0, u)*ds(2)\n",
    "    residual = ufl.derivative(potential_energy, u, dolfin.TestFunction(V))\n",
    "    jacobian = ufl.derivative(residual, u, dolfin.TrialFunction(V))\n",
    "    bcs = [dolfin.DirichletBC(V, (0., 0.), left)]\n",
    "    problem = dolfin.NonlinearVariationalProblem(residual, u, bcs=bcs, J=jacobian)\n",
    "    solver = dolfin.NonlinearVariationalSolver(problem)\n",
    "    loads = np.linspace(load_min, load_max, nsteps)\n",
    "    displ = np.zeros_like(loads)\n",
    "    u.interpolate(dolfin.Constant((0.,0.)))\n",
    "    file_u = dolfin.XDMFFile(\"output/u.xdmf\")\n",
    "    file_u.parameters.update({\"flush_output\": True,\n",
    "                              \"functions_share_mesh\": True,\n",
    "                              \"rewrite_function_mesh\": False})\n",
    "    for (i, t) in enumerate(loads):\n",
    "        b0.t = -t\n",
    "        solver.solve()\n",
    "        displ[i] = dolfin.assemble(u[1]*ds(2))/Ly \n",
    "        print(\"t={:+3.3f}, u={:+3.3f}\".format(t, displ[i]))\n",
    "        with file_u as file:\n",
    "            file.write(u, t)\n",
    "    plt.figure(2)\n",
    "    plt.plot(loads,displ,\"o\")\n",
    "    plt.xlabel(\"load\")\n",
    "    plt.ylabel(\"end-displacement\")\n",
    "    plt.savefig(\"output/displacement.png\")\n",
    "    return (loads,displ)"
   ]
  },
  {
   "cell_type": "markdown",
   "metadata": {},
   "source": [
    "We can then test it:"
   ]
  },
  {
   "cell_type": "code",
   "execution_count": null,
   "metadata": {},
   "outputs": [],
   "source": [
    "loads, displ = solve_hyperelasticity(load_max=.3,nsteps=40,load_min=0,nu=0.3,nx=20,ny=5,Lx=1,Ly=.1)"
   ]
  },
  {
   "cell_type": "markdown",
   "metadata": {},
   "source": [
    "# Exercice\n",
    "- Try to increase the maximum loading to 0.3. Is the Newton solver converging?\n",
    "- Try to replace the elastic energy density with the weakly incompressible Neo-Hookean mode where:\n",
    "$$\n",
    "\\psi(F) = \\dfrac{\\mu}{2}(\\mathrm{tr}(F^T F) - 2) - \\mu\\ln(\\det F) + (\\lambda/2)*(\\ln(\\det F))^2\n",
    "$$\n",
    "and perform again the numerical simulation for a loading going form 0 to 0.3. Is now the Newton solver converging? \n",
    "- A further *optional* analytical exercice: calculate by analytical derivation for the energy density given above.\n",
    "    $$P=\\dfrac{\\partial \\psi(F)}{\\partial F}$$\n",
    "    You can find help in a book of nonlinear elasticity. For example, see Sec. 3.5 of *P.Wriggers, Nonlinear Finite Element Methods, Springer*, that you can download legally from your digital library on the monUPMC account."
   ]
  }
 ],
 "metadata": {
  "file_extension": ".py",
  "kernel_info": {
   "name": "python3"
  },
  "kernelspec": {
   "display_name": "Python 3",
   "language": "python",
   "name": "python3"
  },
  "language_info": {
   "codemirror_mode": {
    "name": "ipython",
    "version": 3
   },
   "file_extension": ".py",
   "mimetype": "text/x-python",
   "name": "python",
   "nbconvert_exporter": "python",
   "pygments_lexer": "ipython3",
   "version": "3.8.5"
  },
  "mimetype": "text/x-python",
  "name": "python",
  "npconvert_exporter": "python",
  "nteract": {
   "version": "0.15.0"
  },
  "pygments_lexer": "ipython3",
  "version": 3
 },
 "nbformat": 4,
 "nbformat_minor": 4
}
