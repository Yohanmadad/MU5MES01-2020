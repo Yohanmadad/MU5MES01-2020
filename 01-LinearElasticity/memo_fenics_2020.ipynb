{
 "cells": [
  {
   "cell_type": "code",
   "execution_count": 1,
   "metadata": {},
   "outputs": [],
   "source": [
    "import dolfin\n",
    "import matplotlib.pyplot as plt\n",
    "import numpy as np"
   ]
  },
  {
   "cell_type": "markdown",
   "metadata": {},
   "source": [
    "# afficher une image (bien mettre la cellule en 'Markdown')\n",
    "cette cellule doit etre en Markdown\n",
    "![le schema](./image.png)"
   ]
  },
  {
   "cell_type": "markdown",
   "metadata": {},
   "source": [
    "# Mettre sous forme np vector un objet dolfin"
   ]
  },
  {
   "cell_type": "code",
   "execution_count": 12,
   "metadata": {},
   "outputs": [],
   "source": [
    "mesh= dolfin.RectangleMesh(dolfin.Point(0., -0.05), dolfin.Point(1.0, 0.05), 20, 5)\n",
    "V = dolfin.FunctionSpace(mesh,\"P\",1)"
   ]
  },
  {
   "cell_type": "code",
   "execution_count": 13,
   "metadata": {},
   "outputs": [],
   "source": [
    "u = dolfin.Function(V)"
   ]
  },
  {
   "cell_type": "code",
   "execution_count": 14,
   "metadata": {},
   "outputs": [
    {
     "data": {
      "text/plain": [
       "array([0., 0., 0., 0., 0., 0., 0., 0., 0., 0., 0., 0., 0., 0., 0., 0., 0.,\n",
       "       0., 0., 0., 0., 0., 0., 0., 0., 0., 0., 0., 0., 0., 0., 0., 0., 0.,\n",
       "       0., 0., 0., 0., 0., 0., 0., 0., 0., 0., 0., 0., 0., 0., 0., 0., 0.,\n",
       "       0., 0., 0., 0., 0., 0., 0., 0., 0., 0., 0., 0., 0., 0., 0., 0., 0.,\n",
       "       0., 0., 0., 0., 0., 0., 0., 0., 0., 0., 0., 0., 0., 0., 0., 0., 0.,\n",
       "       0., 0., 0., 0., 0., 0., 0., 0., 0., 0., 0., 0., 0., 0., 0., 0., 0.,\n",
       "       0., 0., 0., 0., 0., 0., 0., 0., 0., 0., 0., 0., 0., 0., 0., 0., 0.,\n",
       "       0., 0., 0., 0., 0., 0., 0.])"
      ]
     },
     "execution_count": 14,
     "metadata": {},
     "output_type": "execute_result"
    }
   ],
   "source": [
    "u.vector().get_local()"
   ]
  },
  {
   "cell_type": "markdown",
   "metadata": {},
   "source": [
    "# re-assigner des trucs dans une expression"
   ]
  },
  {
   "cell_type": "code",
   "execution_count": 25,
   "metadata": {},
   "outputs": [],
   "source": [
    "p = dolfin.Expression('4*exp(-pow(beta, 2)*(pow(x[0], 2) + pow(x[1] - R0, 2)))',\n",
    "               degree=1, beta=1.0, R0=1.1)"
   ]
  },
  {
   "cell_type": "code",
   "execution_count": 26,
   "metadata": {},
   "outputs": [],
   "source": [
    "p.beta=2.0"
   ]
  },
  {
   "cell_type": "code",
   "execution_count": 27,
   "metadata": {},
   "outputs": [
    {
     "name": "stdout",
     "output_type": "stream",
     "text": [
      "2.0\n"
     ]
    }
   ],
   "source": [
    "# voir une valeur\n",
    "print(p.beta)"
   ]
  },
  {
   "cell_type": "markdown",
   "metadata": {},
   "source": [
    "# re-assigner des trucs dans des constants-vecteurs"
   ]
  },
  {
   "cell_type": "code",
   "execution_count": 25,
   "metadata": {},
   "outputs": [
    {
     "data": {
      "text/plain": [
       "array([0., 1.])"
      ]
     },
     "execution_count": 25,
     "metadata": {},
     "output_type": "execute_result"
    }
   ],
   "source": [
    "body_forces = dolfin.Constant((0., 1.0))\n",
    "body_forces.values()"
   ]
  },
  {
   "cell_type": "code",
   "execution_count": 38,
   "metadata": {},
   "outputs": [
    {
     "data": {
      "text/plain": [
       "array([1., 1.])"
      ]
     },
     "execution_count": 38,
     "metadata": {},
     "output_type": "execute_result"
    }
   ],
   "source": [
    "body_forces.assign(dolfin.Constant((1.0, 1.0)))\n",
    "body_forces.values()"
   ]
  },
  {
   "cell_type": "markdown",
   "metadata": {},
   "source": [
    "# re-assigner des trucs dans des constantes-scalaires"
   ]
  },
  {
   "cell_type": "code",
   "execution_count": 39,
   "metadata": {},
   "outputs": [
    {
     "data": {
      "text/plain": [
       "array([1.1])"
      ]
     },
     "execution_count": 39,
     "metadata": {},
     "output_type": "execute_result"
    }
   ],
   "source": [
    "es = dolfin.Constant(1.1)\n",
    "es.values()"
   ]
  },
  {
   "cell_type": "code",
   "execution_count": 41,
   "metadata": {},
   "outputs": [
    {
     "data": {
      "text/plain": [
       "array([2.])"
      ]
     },
     "execution_count": 41,
     "metadata": {},
     "output_type": "execute_result"
    }
   ],
   "source": [
    "es.assign(2.0)\n",
    "es.values()"
   ]
  },
  {
   "cell_type": "markdown",
   "metadata": {},
   "source": [
    "# re-assigner des trucs dans des compiled subdomain"
   ]
  },
  {
   "cell_type": "code",
   "execution_count": 7,
   "metadata": {},
   "outputs": [],
   "source": [
    "tol = 1E-10\n",
    "xmin=0.5\n",
    "left = dolfin.CompiledSubDomain(\"near(x[0], xmin, tol) && on_boundary\",xmin=xmin,tol=tol)"
   ]
  },
  {
   "cell_type": "code",
   "execution_count": 8,
   "metadata": {},
   "outputs": [
    {
     "data": {
      "text/plain": [
       "0.5"
      ]
     },
     "execution_count": 8,
     "metadata": {},
     "output_type": "execute_result"
    }
   ],
   "source": [
    "left.get_property('xmin')"
   ]
  },
  {
   "cell_type": "code",
   "execution_count": 9,
   "metadata": {},
   "outputs": [],
   "source": [
    "left.set_property('xmin', 0.4)"
   ]
  },
  {
   "cell_type": "code",
   "execution_count": 10,
   "metadata": {},
   "outputs": [
    {
     "data": {
      "text/plain": [
       "0.4"
      ]
     },
     "execution_count": 10,
     "metadata": {},
     "output_type": "execute_result"
    }
   ],
   "source": [
    "left.get_property('xmin')"
   ]
  },
  {
   "cell_type": "markdown",
   "metadata": {},
   "source": [
    "# Differentes facons de creer le FunctionSpace"
   ]
  },
  {
   "cell_type": "code",
   "execution_count": 2,
   "metadata": {},
   "outputs": [
    {
     "name": "stdout",
     "output_type": "stream",
     "text": [
      "triangle\n",
      "2\n"
     ]
    },
    {
     "data": {
      "image/png": "[encoded data removed]",
      "text/plain": [
       "<Figure size 432x288 with 1 Axes>"
      ]
     },
     "metadata": {
      "needs_background": "light"
     },
     "output_type": "display_data"
    }
   ],
   "source": [
    "mesh= dolfin.RectangleMesh(dolfin.Point(0., -0.05), dolfin.Point(1.0, 0.05), 20, 5)\n",
    "dolfin.plot(mesh)\n",
    "print(mesh.ufl_cell())\n",
    "print(mesh.geometric_dimension())"
   ]
  },
  {
   "cell_type": "code",
   "execution_count": 3,
   "metadata": {},
   "outputs": [],
   "source": [
    "element = dolfin.VectorElement('P', cell=mesh.ufl_cell(), degree=1, dim=mesh.geometric_dimension())\n",
    "V = dolfin.FunctionSpace(mesh, element)"
   ]
  },
  {
   "cell_type": "code",
   "execution_count": 7,
   "metadata": {},
   "outputs": [],
   "source": [
    "# ou alors, plus rapide\n",
    "W = dolfin.VectorFunctionSpace(mesh, 'P', 1,dim=2)"
   ]
  },
  {
   "cell_type": "code",
   "execution_count": 8,
   "metadata": {},
   "outputs": [
    {
     "data": {
      "text/plain": [
       "0.10000000000000007"
      ]
     },
     "execution_count": 8,
     "metadata": {},
     "output_type": "execute_result"
    }
   ],
   "source": [
    "# pour calculer l'aire du rectangle !!\n",
    "dxSEB = dolfin.Measure(\"dx\", domain=mesh)\n",
    "dolfin.assemble(dolfin.Constant(1.)*dxSEB)"
   ]
  },
  {
   "cell_type": "markdown",
   "metadata": {},
   "source": [
    "# Enumerate"
   ]
  },
  {
   "cell_type": "code",
   "execution_count": 5,
   "metadata": {},
   "outputs": [],
   "source": [
    "nbriter=30\n",
    "theta_values = np.linspace(0.0, 1.0,  nbriter)"
   ]
  },
  {
   "cell_type": "code",
   "execution_count": 57,
   "metadata": {},
   "outputs": [
    {
     "name": "stdout",
     "output_type": "stream",
     "text": [
      "Increment 0 of 30. theta = 0.00, out = 0.0000\n",
      "Increment 0 of 30. theta = 0.00, out = 0.0000\n",
      "Increment 1 of 30. theta = 0.11, out = 0.0117\n",
      "Increment 1 of 30. theta = 0.11, out = 0.0117\n",
      "Increment 2 of 30. theta = 0.22, out = 0.0469\n",
      "Increment 2 of 30. theta = 0.22, out = 0.0469\n",
      "Increment 3 of 30. theta = 0.32, out = 0.1056\n",
      "Increment 3 of 30. theta = 0.32, out = 0.1056\n",
      "Increment 4 of 30. theta = 0.43, out = 0.1878\n",
      "Increment 4 of 30. theta = 0.43, out = 0.1878\n",
      "Increment 5 of 30. theta = 0.54, out = 0.2934\n",
      "Increment 5 of 30. theta = 0.54, out = 0.2934\n",
      "Increment 6 of 30. theta = 0.65, out = 0.4225\n",
      "Increment 6 of 30. theta = 0.65, out = 0.4225\n",
      "Increment 7 of 30. theta = 0.76, out = 0.5750\n",
      "Increment 7 of 30. theta = 0.76, out = 0.5750\n",
      "Increment 8 of 30. theta = 0.87, out = 0.7511\n",
      "Increment 8 of 30. theta = 0.87, out = 0.7511\n",
      "Increment 9 of 30. theta = 0.97, out = 0.9506\n",
      "Increment 9 of 30. theta = 0.97, out = 0.9506\n",
      "Increment 10 of 30. theta = 1.08, out = 1.1736\n",
      "Increment 10 of 30. theta = 1.08, out = 1.1736\n",
      "Increment 11 of 30. theta = 1.19, out = 1.4200\n",
      "Increment 11 of 30. theta = 1.19, out = 1.4200\n",
      "Increment 12 of 30. theta = 1.30, out = 1.6899\n",
      "Increment 12 of 30. theta = 1.30, out = 1.6899\n",
      "Increment 13 of 30. theta = 1.41, out = 1.9833\n",
      "Increment 13 of 30. theta = 1.41, out = 1.9833\n",
      "Increment 14 of 30. theta = 1.52, out = 2.3002\n",
      "Increment 14 of 30. theta = 1.52, out = 2.3002\n",
      "Increment 15 of 30. theta = 1.62, out = 2.6405\n",
      "Increment 15 of 30. theta = 1.62, out = 2.6405\n",
      "Increment 16 of 30. theta = 1.73, out = 3.0043\n",
      "Increment 16 of 30. theta = 1.73, out = 3.0043\n",
      "Increment 17 of 30. theta = 1.84, out = 3.3916\n",
      "Increment 17 of 30. theta = 1.84, out = 3.3916\n",
      "Increment 18 of 30. theta = 1.95, out = 3.8023\n",
      "Increment 18 of 30. theta = 1.95, out = 3.8023\n",
      "Increment 19 of 30. theta = 2.06, out = 4.2365\n",
      "Increment 19 of 30. theta = 2.06, out = 4.2365\n",
      "Increment 20 of 30. theta = 2.17, out = 4.6942\n",
      "Increment 20 of 30. theta = 2.17, out = 4.6942\n",
      "Increment 21 of 30. theta = 2.27, out = 5.1754\n",
      "Increment 21 of 30. theta = 2.27, out = 5.1754\n",
      "Increment 22 of 30. theta = 2.38, out = 5.6800\n",
      "Increment 22 of 30. theta = 2.38, out = 5.6800\n",
      "Increment 23 of 30. theta = 2.49, out = 6.2081\n",
      "Increment 23 of 30. theta = 2.49, out = 6.2081\n",
      "Increment 24 of 30. theta = 2.60, out = 6.7597\n",
      "Increment 24 of 30. theta = 2.60, out = 6.7597\n",
      "Increment 25 of 30. theta = 2.71, out = 7.3347\n",
      "Increment 25 of 30. theta = 2.71, out = 7.3347\n",
      "Increment 26 of 30. theta = 2.82, out = 7.9332\n",
      "Increment 26 of 30. theta = 2.82, out = 7.9332\n",
      "Increment 27 of 30. theta = 2.92, out = 8.5552\n",
      "Increment 27 of 30. theta = 2.92, out = 8.5552\n",
      "Increment 28 of 30. theta = 3.03, out = 9.2007\n",
      "Increment 28 of 30. theta = 3.03, out = 9.2007\n",
      "Increment 29 of 30. theta = 3.14, out = 9.8696\n",
      "Increment 29 of 30. theta = 3.14, out = 9.8696\n"
     ]
    }
   ],
   "source": [
    "nbriter=30\n",
    "theta_values = np.linspace(0.0, 1.0,  nbriter)\n",
    "lst = 0.*theta_values\n",
    "theta_dep=0\n",
    "theta_voulu=np.pi\n",
    "for (i,t) in enumerate(theta_values):\n",
    "    theta_ICI = (1-t)*theta_dep + t*theta_voulu\n",
    "    lst[i] = theta_ICI**2\n",
    "    print(\"Increment %d of %s. theta = %.2f, out = %.4f\" %(i, theta_values.size,theta_ICI,lst[i]))\n",
    "    print(f\"Increment {i:d} of {theta_values.size:d}. theta = {theta_ICI :.2f}, out = {lst[i]:.4f}\")\n",
    "    #print(f\"Increment {i} of {theta_values.size}. theta : {theta_ICI}, out: {lst[i]}\")"
   ]
  },
  {
   "cell_type": "markdown",
   "metadata": {},
   "source": [
    "# Easy plotting"
   ]
  },
  {
   "cell_type": "code",
   "execution_count": 2,
   "metadata": {},
   "outputs": [],
   "source": [
    "# taille des plot de mathplotlib\n",
    "plt.rcParams[\"figure.figsize\"] = (6, 6)"
   ]
  },
  {
   "cell_type": "code",
   "execution_count": 12,
   "metadata": {},
   "outputs": [
    {
     "data": {
      "image/png": "[encoded data removed]",
      "text/plain": [
       "<Figure size 432x432 with 1 Axes>"
      ]
     },
     "metadata": {
      "needs_background": "light"
     },
     "output_type": "display_data"
    }
   ],
   "source": [
    "x = np.linspace(0.,1, num=50)\n",
    "Hmax=5.0\n",
    "H_formula = Hmax * (-1./3.*(x-1.)**4 - 4./3.*x + 1/3)\n",
    "\n",
    "plt.plot(x, H_formula, label='Beam theory')\n",
    "plt.xlabel('x[0]',color='red',fontsize=15)\n",
    "plt.ylabel('H',color='red',fontsize=15)\n",
    "#plt.legend(loc=\"lower right\")\n",
    "#plt.legend(loc=\"upper left\")\n",
    "plt.legend()\n",
    "plt.grid(True)\n",
    "\n",
    "plt.show()"
   ]
  },
  {
   "cell_type": "markdown",
   "metadata": {},
   "source": [
    "# Presentation de listes"
   ]
  },
  {
   "cell_type": "code",
   "execution_count": 36,
   "metadata": {},
   "outputs": [
    {
     "name": "stdout",
     "output_type": "stream",
     "text": [
      "Convergence:\n",
      " n: 0002        0004        0008        0016        0032        0064        0128        0256\n",
      " n: 2.0000e+00  4.0000e+00  8.0000e+00  1.6000e+01  3.2000e+01  6.4000e+01  1.2800e+02  2.5600e+02\n",
      "h1: 5.0000e-01  2.5000e-01  1.2500e-01  6.2500e-02  3.1250e-02  1.5625e-02  7.8125e-03  3.9062e-03\n",
      "h2: 5.0000e-01  2.5000e-01  1.2500e-01  6.2500e-02  3.1250e-02  1.5625e-02  7.8125e-03  3.9062e-03\n",
      "N1: 0.0000e+00  6.0000e+00  1.0000e+01  1.8000e+01  3.4000e+01  6.6000e+01  1.3000e+02  2.5800e+02\n",
      "N2: 6.0000e+00  1.0000e+01  1.8000e+01  3.4000e+01  6.6000e+01  1.3000e+02  2.5800e+02  5.1400e+02\n",
      "e1: 4.8897e-01  9.6012e-01  3.2971e-01  2.2365e-01  7.8214e-01  5.3270e-01  7.0222e-01  9.8737e-01\n",
      "e2: 6.1611e-01  6.9912e-02  1.4850e-01  5.9201e-02  1.8915e-03  3.5390e-01  5.0418e-01  3.9296e-01\n"
     ]
    }
   ],
   "source": [
    "def poisson(q,n):\n",
    "    N=q*n^2\n",
    "    error = np.random.ranf()\n",
    "    return 1.0/n, N, error\n",
    "\n",
    "liste_n=[2, 4, 8, 16, 32, 64, 128, 256]\n",
    "\n",
    "# Check convergence\n",
    "h1, N1, e1 = zip(*[poisson(1, n) for n in liste_n])\n",
    "h2, N2, e2 = zip(*[poisson(2, n) for n in liste_n])\n",
    "\n",
    "\n",
    "\n",
    "def fmt(values):\n",
    "    return \"  \".join(\"%.4e\" % v for v in values)\n",
    "\n",
    "print(\"Convergence:\")\n",
    "print(\" n:\",\"        \".join(\"%.4d\" % v for v in liste_n))\n",
    "print(\" n:\", fmt(liste_n))\n",
    "print(\"h1:\", fmt(h1))\n",
    "print(\"h2:\", fmt(h2))\n",
    "print(\"N1:\", fmt(N1))\n",
    "print(\"N2:\", fmt(N2))\n",
    "print(\"e1:\", fmt(e1))\n",
    "print(\"e2:\", fmt(e2))\n",
    "\n"
   ]
  },
  {
   "cell_type": "code",
   "execution_count": null,
   "metadata": {},
   "outputs": [],
   "source": []
  },
  {
   "cell_type": "code",
   "execution_count": null,
   "metadata": {},
   "outputs": [],
   "source": []
  },
  {
   "cell_type": "code",
   "execution_count": null,
   "metadata": {},
   "outputs": [],
   "source": []
  },
  {
   "cell_type": "code",
   "execution_count": null,
   "metadata": {},
   "outputs": [],
   "source": []
  }
 ],
 "metadata": {
  "kernelspec": {
   "display_name": "Python 3",
   "language": "python",
   "name": "python3"
  },
  "language_info": {
   "codemirror_mode": {
    "name": "ipython",
    "version": 3
   },
   "file_extension": ".py",
   "mimetype": "text/x-python",
   "name": "python",
   "nbconvert_exporter": "python",
   "pygments_lexer": "ipython3",
   "version": "3.7.3"
  }
 },
 "nbformat": 4,
 "nbformat_minor": 2
}
